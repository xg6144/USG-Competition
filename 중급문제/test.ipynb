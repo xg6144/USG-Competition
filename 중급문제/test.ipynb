{
 "cells": [
  {
   "cell_type": "code",
   "execution_count": null,
   "id": "744d4bcb-5488-4519-8950-c4f92f36d9b3",
   "metadata": {},
   "outputs": [],
   "source": [
    "!pip install ultralytics"
   ]
  },
  {
   "cell_type": "code",
   "execution_count": 4,
   "id": "48187dcc-96ac-4eae-b55f-b030fad665da",
   "metadata": {},
   "outputs": [],
   "source": [
    "import json\n",
    "import os\n",
    "from ultralytics import YOLO"
   ]
  },
  {
   "cell_type": "code",
   "execution_count": 2,
   "id": "4c5185d7-8ca4-4248-9e0a-c06f58818a25",
   "metadata": {
    "scrolled": true
   },
   "outputs": [
    {
     "name": "stderr",
     "output_type": "stream",
     "text": [
      "\n",
      "image 1/25 /home/ubuntu/storage2/dongbeen/Competition_task2/data/test_data/image_001.jpg: 480x480 6 ics, 5 resistors, 5.5ms\n",
      "image 2/25 /home/ubuntu/storage2/dongbeen/Competition_task2/data/test_data/image_002.jpg: 320x480 1 ic, 113.8ms\n",
      "image 3/25 /home/ubuntu/storage2/dongbeen/Competition_task2/data/test_data/image_003.jpg: 352x480 2 ics, 112.3ms\n",
      "image 4/25 /home/ubuntu/storage2/dongbeen/Competition_task2/data/test_data/image_004.jpg: 320x480 3 ics, 1 capacitor, 11 resistors, 5.4ms\n",
      "image 5/25 /home/ubuntu/storage2/dongbeen/Competition_task2/data/test_data/image_005.jpg: 320x480 1 ic, 4.7ms\n",
      "image 6/25 /home/ubuntu/storage2/dongbeen/Competition_task2/data/test_data/image_006.jpg: 320x480 2 ics, 5.2ms\n",
      "image 7/25 /home/ubuntu/storage2/dongbeen/Competition_task2/data/test_data/image_007.jpg: 480x480 4 ics, 8 capacitors, 14 resistors, 250.3ms\n",
      "image 8/25 /home/ubuntu/storage2/dongbeen/Competition_task2/data/test_data/image_008.jpg: 480x480 3 ics, 4.7ms\n",
      "image 9/25 /home/ubuntu/storage2/dongbeen/Competition_task2/data/test_data/image_009.jpg: 320x480 12 ics, 2 capacitors, 5 resistors, 4.9ms\n",
      "image 10/25 /home/ubuntu/storage2/dongbeen/Competition_task2/data/test_data/image_010.jpg: 352x480 10 ics, 7 capacitors, 14 resistors, 5.1ms\n",
      "image 11/25 /home/ubuntu/storage2/dongbeen/Competition_task2/data/test_data/image_011.jpg: 288x480 4 ics, 1 capacitor, 6 resistors, 112.0ms\n",
      "image 12/25 /home/ubuntu/storage2/dongbeen/Competition_task2/data/test_data/image_012.jpg: 288x480 2 ics, 4.7ms\n",
      "image 13/25 /home/ubuntu/storage2/dongbeen/Competition_task2/data/test_data/image_013.jpg: 480x480 3 ics, 2 resistors, 5.0ms\n",
      "image 14/25 /home/ubuntu/storage2/dongbeen/Competition_task2/data/test_data/image_014.jpg: 352x480 (no detections), 5.4ms\n",
      "image 15/25 /home/ubuntu/storage2/dongbeen/Competition_task2/data/test_data/image_015.jpg: 480x480 10 ics, 6 capacitors, 11 resistors, 5.6ms\n",
      "image 16/25 /home/ubuntu/storage2/dongbeen/Competition_task2/data/test_data/image_016.jpg: 320x480 1 ic, 5.5ms\n",
      "image 17/25 /home/ubuntu/storage2/dongbeen/Competition_task2/data/test_data/image_017.jpg: 480x384 1 ic, 1 capacitor, 19 resistors, 111.5ms\n",
      "image 18/25 /home/ubuntu/storage2/dongbeen/Competition_task2/data/test_data/image_018.jpg: 352x480 1 capacitor, 5.3ms\n",
      "image 19/25 /home/ubuntu/storage2/dongbeen/Competition_task2/data/test_data/image_019.jpg: 480x384 9 ics, 4 capacitors, 11 resistors, 5.6ms\n",
      "image 20/25 /home/ubuntu/storage2/dongbeen/Competition_task2/data/test_data/image_020.jpg: 288x480 4 ics, 1 capacitor, 5.3ms\n",
      "image 21/25 /home/ubuntu/storage2/dongbeen/Competition_task2/data/test_data/image_021.jpg: 352x480 4 ics, 1 capacitor, 2 resistors, 5.1ms\n",
      "image 22/25 /home/ubuntu/storage2/dongbeen/Competition_task2/data/test_data/image_022.jpg: 352x480 1 ic, 5.1ms\n",
      "image 23/25 /home/ubuntu/storage2/dongbeen/Competition_task2/data/test_data/image_023.jpg: 288x480 1 ic, 1 resistor, 5.5ms\n",
      "image 24/25 /home/ubuntu/storage2/dongbeen/Competition_task2/data/test_data/image_024.jpg: 256x480 2 ics, 2 resistors, 110.4ms\n",
      "image 25/25 /home/ubuntu/storage2/dongbeen/Competition_task2/data/test_data/image_025.jpg: 480x480 1 capacitor, 1 resistor, 5.4ms\n",
      "Speed: 0.4ms preprocess, 36.4ms inference, 1.2ms postprocess per image at shape (1, 3, 480, 480)\n",
      "Results saved to \u001b[1mruns/detect/predict\u001b[0m\n",
      "25 labels saved to runs/detect/predict/labels\n"
     ]
    }
   ],
   "source": [
    "model = YOLO(\"./weights/best.pt\") # 학습이 끝난 후 가중치는 runs/detect/train/weights/best.pt 경로에 저장되어있음\n",
    "result = model.predict(source=\"/home/ubuntu/storage2/dongbeen/Competition_task2/data/test_data/\", imgsz=480, iou=0.5, conf=0.2, device=1, save_txt=True, save=True) # 테스트 이미지 경로 (절대 경로)"
   ]
  },
  {
   "cell_type": "code",
   "execution_count": 5,
   "id": "c4715c87-3b6b-4d08-b096-5773adb1bb85",
   "metadata": {},
   "outputs": [],
   "source": [
    "# Yolo Format을 COCO Format으로 변환\n",
    "def convert_yolo_to_coco_format(idx, line, img_width, img_height):\n",
    "    parts = list(map(float, line.strip().split()))\n",
    "    class_id = int(parts[0])\n",
    "    x_center, y_center, width, height = parts[1:5]\n",
    "\n",
    "    x = (x_center * img_width) - (width * img_width / 2)\n",
    "    y = (y_center * img_height) - (height * img_height / 2)\n",
    "\n",
    "    width *= img_width\n",
    "    height *= img_height\n",
    "\n",
    "    return {\n",
    "        \"id\": idx,\n",
    "        \"image_id\": None,\n",
    "        \"category_id\": class_id,\n",
    "        \"bbox\": [x, y, round(width, 2), round(height, 2)],\n",
    "        \"segmentation\": [],\n",
    "        \"area\": width * height,\n",
    "        \"iscrowd\": 0,\n",
    "        \"attributes\": {\"occluded\": False, \"rotation\": 0.0}\n",
    "    }"
   ]
  },
  {
   "cell_type": "code",
   "execution_count": 10,
   "id": "dac42a76-2d7c-4109-9f4b-53f1750f9938",
   "metadata": {},
   "outputs": [],
   "source": [
    "with open(\"/home/ubuntu/storage2/dongbeen/Competition_task2/data/answer_sample.json\", \"r\") as f: # 제공된 정답파일 양식 경로\n",
    "    answer_data = json.load(f)\n",
    "answer_images = {img['id']: img for img in answer_data[\"images\"]}\n",
    "txt_files_dir = './runs/detect/predict/labels/' # Yolo를 이용해 추론한 label의 경로\n",
    "txt_files = [f for f in os.listdir(txt_files_dir) if f.endswith('.txt')]"
   ]
  },
  {
   "cell_type": "code",
   "execution_count": 11,
   "id": "995ec841-1806-4d88-bbe5-56fc398d95d0",
   "metadata": {},
   "outputs": [],
   "source": [
    "# image_id와 파일 이름을 넣고 image_id를 기준으로 정렬\n",
    "def get_image_id_from_filename(filename, images_data):\n",
    "    base_name = os.path.splitext(filename)[0]\n",
    "    for image in images_data:\n",
    "        if image['file_name'].startswith(base_name):\n",
    "            return image['id']\n",
    "    return None\n",
    "\n",
    "answer_data['annotations'] = []\n",
    "new_annotations = []\n",
    "\n",
    "for idx, txt_file in enumerate(txt_files):\n",
    "    with open(os.path.join(txt_files_dir, txt_file), 'r') as f:\n",
    "        lines = f.readlines()\n",
    "    img_id = get_image_id_from_filename(txt_file, answer_data['images'])\n",
    "    for line in lines:\n",
    "        coco_ann = convert_yolo_to_coco_format(idx, line, answer_images[img_id]['width'], answer_images[img_id]['height'])\n",
    "        coco_ann['image_id'] = img_id\n",
    "        new_annotations.append(coco_ann)\n",
    "        \n",
    "answer_data['annotations'] += new_annotations\n",
    "sorted_ann = sorted(new_annotations, key=lambda x: x['image_id'])\n",
    "\n",
    "for i, ann in enumerate(sorted_ann):\n",
    "    ann['id'] = i"
   ]
  },
  {
   "cell_type": "code",
   "execution_count": 12,
   "id": "ec15aa7b-da63-4c82-af2c-4d2177084f2a",
   "metadata": {},
   "outputs": [],
   "source": [
    "# 제출 파일 생성\n",
    "answer_data['annotations'] = sorted_ann\n",
    "with open('answer.json', 'w') as f: # 제출 파일이 저장될 경로\n",
    "    json.dump(answer_data, f)"
   ]
  },
  {
   "cell_type": "code",
   "execution_count": null,
   "id": "10b44af5-664a-4142-a2a6-06577452749b",
   "metadata": {},
   "outputs": [],
   "source": []
  }
 ],
 "metadata": {
  "kernelspec": {
   "display_name": "Python 3 (ipykernel)",
   "language": "python",
   "name": "python3"
  },
  "language_info": {
   "codemirror_mode": {
    "name": "ipython",
    "version": 3
   },
   "file_extension": ".py",
   "mimetype": "text/x-python",
   "name": "python",
   "nbconvert_exporter": "python",
   "pygments_lexer": "ipython3",
   "version": "3.11.4"
  }
 },
 "nbformat": 4,
 "nbformat_minor": 5
}
