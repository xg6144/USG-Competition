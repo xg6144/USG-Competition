{
 "cells": [
  {
   "cell_type": "code",
   "execution_count": null,
   "id": "802fea71",
   "metadata": {},
   "outputs": [],
   "source": [
    "!pip install pandas numpy silence_tensorflow tensorflow"
   ]
  },
  {
   "cell_type": "code",
   "execution_count": 1,
   "id": "d0313f67-622d-4bf8-9364-c033cac1df92",
   "metadata": {},
   "outputs": [],
   "source": [
    "import pandas as pd\n",
    "import numpy as np\n",
    "import os\n",
    "from silence_tensorflow import silence_tensorflow\n",
    "silence_tensorflow()\n",
    "from tensorflow.keras.models import load_model\n",
    "\n",
    "os.environ[\"CUDA_VISIBLE_DEVICES\"] = '0' # 0번 GPU만 사용합니다."
   ]
  },
  {
   "cell_type": "code",
   "execution_count": 2,
   "id": "dc8868a7-fd55-4406-bddd-65eaac0944a3",
   "metadata": {},
   "outputs": [],
   "source": [
    "model_1 = load_model('./weights/best_model_1.h5') # train에서 학습된 3개의 모델 구조와 가중치를 불러옵니다.\n",
    "model_2 = load_model('./weights/best_model_2.h5')\n",
    "model_3 = load_model('./weights/best_model_3.h5')"
   ]
  },
  {
   "cell_type": "code",
   "execution_count": 3,
   "id": "3caf1112",
   "metadata": {},
   "outputs": [],
   "source": [
    "def apply_zero_padding(spectrogram, max_length):\n",
    "    padding_length = max_length - spectrogram.shape[1]\n",
    "    if padding_length > 0:\n",
    "        return np.pad(spectrogram, ((0, 0), (0, padding_length)), 'constant')\n",
    "    else:\n",
    "        return spectrogram"
   ]
  },
  {
   "cell_type": "code",
   "execution_count": 4,
   "id": "ebab4de8-9311-4ed2-bf90-b811bdcfba01",
   "metadata": {},
   "outputs": [],
   "source": [
    "submission_df = pd.read_csv('./data/anwer_sample.csv') # 제출 파일의 양식을 가져옵니다."
   ]
  },
  {
   "cell_type": "code",
   "execution_count": 5,
   "id": "96b2917c-514c-4e54-adba-f8e5d71bf638",
   "metadata": {},
   "outputs": [],
   "source": [
    "# 훈련 데이터 길이 중 가장 긴 길이를 불러옵니다.\n",
    "npy_files = [f for f in os.listdir('./data/train_npy/') if f.endswith('.npy')] # 훈련 npy 파일이 들어있는 폴더 경로\n",
    "\n",
    "spectrogram_shapes = {}\n",
    "for file in npy_files:\n",
    "    data = np.load(f\"./data/train_npy/{file}\") # 훈련 npy 파일이 들어있는 폴더 경로\n",
    "    spectrogram_shapes[file] = data.shape\n",
    "\n",
    "max_time_length = max(shape[1] for shape in spectrogram_shapes.values())"
   ]
  },
  {
   "cell_type": "code",
   "execution_count": 6,
   "id": "8f742dfa-e0b4-4dbd-bdf9-aed211683c26",
   "metadata": {},
   "outputs": [],
   "source": [
    "X_test = np.array([\n",
    "    apply_zero_padding(np.load(f\"./data/test_npy/{file}\"), max_time_length) # 테스트 npy 파일이 들어있는 경로\n",
    "    for file in submission_df['file']\n",
    "])\n",
    "X_test = X_test.reshape((X_test.shape[0], X_test.shape[1], X_test.shape[2], 1))"
   ]
  },
  {
   "cell_type": "code",
   "execution_count": 7,
   "id": "982bee3a-77f9-4ad0-8f99-4d70f9ae4c68",
   "metadata": {},
   "outputs": [
    {
     "name": "stdout",
     "output_type": "stream",
     "text": [
      "94/94 [==============================] - 4s 12ms/step\n",
      "94/94 [==============================] - 2s 12ms/step\n",
      "94/94 [==============================] - 1s 11ms/step\n"
     ]
    }
   ],
   "source": [
    "predictions_1 = model_1.predict(X_test) # 세 개의 모델을 모두 예측하고 예측 값을 평균을 내어 최종 예측을 결정합니다.\n",
    "predictions_2 = model_2.predict(X_test)\n",
    "predictions_3 = model_3.predict(X_test)\n",
    "predictions = (predictions_1 + predictions_2 + predictions_3) / 3\n",
    "predicted_labels = (predictions > 0.5).astype(int)\n",
    "submission_df['label'] = predicted_labels\n",
    "submission_df.to_csv('result.csv', index=False) # csv 파일이 저장될 경로"
   ]
  },
  {
   "cell_type": "code",
   "execution_count": null,
   "id": "d07650cb-0e33-4b14-83d3-9eafc306825f",
   "metadata": {},
   "outputs": [],
   "source": []
  }
 ],
 "metadata": {
  "kernelspec": {
   "display_name": "Python 3 (ipykernel)",
   "language": "python",
   "name": "python3"
  },
  "language_info": {
   "codemirror_mode": {
    "name": "ipython",
    "version": 3
   },
   "file_extension": ".py",
   "mimetype": "text/x-python",
   "name": "python",
   "nbconvert_exporter": "python",
   "pygments_lexer": "ipython3",
   "version": "3.11.4"
  }
 },
 "nbformat": 4,
 "nbformat_minor": 5
}
